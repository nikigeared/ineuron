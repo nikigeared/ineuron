{
 "cells": [
  {
   "cell_type": "markdown",
   "metadata": {},
   "source": [
    "1.1 Write a Python Program to implement your own myreduce() function which works exactly\n",
    "like Python's built-in function reduce()"
   ]
  },
  {
   "cell_type": "code",
   "execution_count": 1,
   "metadata": {},
   "outputs": [
    {
     "name": "stdout",
     "output_type": "stream",
     "text": [
      "Enter the n:25\n",
      "Sum of odd mumbers between 1 and 25 is equal to 169\n"
     ]
    }
   ],
   "source": [
    "# Sum of odd number between 1-n\n",
    "def myreduce(n):\n",
    "    sum=0\n",
    "    for number in range(1,n+1,2):\n",
    "        sum+=number\n",
    "    print(\"Sum of odd mumbers between 1 and {0} is equal to {1}\".format(n,sum))\n",
    "\n",
    "myreduce(int(input(\"Enter the n:\")))"
   ]
  },
  {
   "cell_type": "code",
   "execution_count": 2,
   "metadata": {},
   "outputs": [
    {
     "name": "stdout",
     "output_type": "stream",
     "text": [
      "enter n25\n",
      "Sum of odd mumbers between 1 and 25 is equal to 144\n"
     ]
    }
   ],
   "source": [
    "# Import reduce function\n",
    "n=int(input(\"enter n\"))\n",
    "from functools import reduce\n",
    "num_list= []\n",
    "for number in range(1,n,2):\n",
    "    num_list.append(number)\n",
    "sum_odd = reduce((lambda x, y: x + y), num_list)\n",
    "print(\"Sum of odd mumbers between 1 and {0} is equal to {1}\".format(n,sum_odd))"
   ]
  },
  {
   "cell_type": "markdown",
   "metadata": {},
   "source": [
    "1.2 Write a Python program to implement your own myfilter() function which works exactly\n",
    "like Python's built-in function filter()"
   ]
  },
  {
   "cell_type": "code",
   "execution_count": 3,
   "metadata": {},
   "outputs": [
    {
     "name": "stdout",
     "output_type": "stream",
     "text": [
      "Enter the n:25\n"
     ]
    },
    {
     "data": {
      "text/plain": [
       "([12, 14, 16, 18, 20, 22, 24], [11, 13, 15, 17, 19, 21, 23])"
      ]
     },
     "execution_count": 3,
     "metadata": {},
     "output_type": "execute_result"
    }
   ],
   "source": [
    "# Filter the list from first n natural number where number should greater than 10\n",
    "\n",
    "def myfilter(n):\n",
    "    num_list=range(1,n)\n",
    "    \n",
    "    even_list = []\n",
    "    odd_list = []\n",
    "    \n",
    "    for i in num_list:\n",
    "                if(i>10):\n",
    "                    if(i%2==0):\n",
    "                        even_list.append(i)\n",
    "                    else:\n",
    "                        odd_list.append(i)\n",
    "    return even_list,odd_list\n",
    "\n",
    "#print(\"The list of even number which is greater than 10\\n:\",even_list)\n",
    "#print(\"The list of odd number which is greater than 10 \\n\",odd_list)\n",
    "myfilter(int(input(\"Enter the n:\")))"
   ]
  },
  {
   "cell_type": "markdown",
   "metadata": {},
   "source": [
    "2. Implement List comprehensions to produce the following lists.\n",
    "Write List comprehensions to produce the following Lists\n",
    "\n",
    "['A', 'C', 'A', 'D', 'G', 'I', ’L’, ‘ D’]\n",
    "['x', 'xx', 'xxx', 'xxxx', 'y', 'yy', 'yyy', 'yyyy', 'z', 'zz', 'zzz', 'zzzz']\n",
    "['x', 'y', 'z', 'xx', 'yy', 'zz', 'xxx', 'yyy', 'zzz', 'xxxx', 'yyyy', 'zzzz']\n",
    "[[2], [3], [4], [3], [4], [5], [4], [5], [6]] [[2, 3, 4, 5], [3, 4, 5, 6],\n",
    "[4, 5, 6, 7], [5, 6, 7, 8]]\n",
    "[(1, 1), (2, 1), (3, 1), (1, 2), (2, 2), (3, 2), (1, 3), (2, 3), (3, 3)]"
   ]
  },
  {
   "cell_type": "code",
   "execution_count": 5,
   "metadata": {
    "scrolled": true
   },
   "outputs": [
    {
     "name": "stdout",
     "output_type": "stream",
     "text": [
      "['A', 'C', 'A', 'D', 'G', 'I', 'L', 'D']\n",
      "['x', 'xx', 'xxx', 'xxxx', 'y', 'yy', 'yyy', 'yyyy', 'z', 'zz', 'zzz', 'zzzz']\n",
      "['x', 'y', 'z', 'xx', 'yy', 'zz', 'xxx', 'yyy', 'zzz', 'xxxx', 'yyyy', 'zzzz']\n",
      "[[2], [3], [4], [3], [4], [5], [4], [5], [6]]\n",
      "[[2, 3, 4, 5], [3, 4, 5, 6], [4, 5, 6, 7]]\n",
      "[(1, 1), (1, 2), (1, 3), (2, 1), (2, 2), (2, 3), (3, 1), (3, 2), (3, 3)]\n"
     ]
    }
   ],
   "source": [
    "l=\"acadgild\"\n",
    "list1=output_list=[i.upper() for i in list(l)]\n",
    "print(list1)\n",
    "\n",
    "l2=list('xyz')\n",
    "list2=[i*n for i in l2 for n in range(1,5)]\n",
    "print(list2)\n",
    "\n",
    "l3=list('xyz')\n",
    "list3=[i*n for n in range(1,5) for i in l3]\n",
    "print(list3)\n",
    "\n",
    "l4=[2,3,4]\n",
    "list4=[[i+n] for i in l4 for n in range(0,3)]\n",
    "print(list4)\n",
    "\n",
    "l5=[2,3,4,5]\n",
    "list5=[[i+n for n in range(0,4)] for i in l4]\n",
    "print(list5)\n",
    "\n",
    "l6=[1,2,3]\n",
    "list6=[(i,j)for i in l6 for j in l6]\n",
    "print(list6)"
   ]
  }
 ],
 "metadata": {
  "kernelspec": {
   "display_name": "Python 3",
   "language": "python",
   "name": "python3"
  },
  "language_info": {
   "codemirror_mode": {
    "name": "ipython",
    "version": 3
   },
   "file_extension": ".py",
   "mimetype": "text/x-python",
   "name": "python",
   "nbconvert_exporter": "python",
   "pygments_lexer": "ipython3",
   "version": "3.8.3"
  }
 },
 "nbformat": 4,
 "nbformat_minor": 4
}

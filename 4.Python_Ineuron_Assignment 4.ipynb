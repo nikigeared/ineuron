{
 "cells": [
  {
   "cell_type": "markdown",
   "metadata": {},
   "source": [
    "1.1 Write a Python Program(with class concepts) to find the area of the triangle using the below formula\n",
    "\n",
    "###### area = (s*(s-a)*(s-b)*(s-c)) ** 0.5\n",
    "Function to take the length of the sides of triangle from user should be defined in the parent\n",
    "class and function to calculate the area should be defined in subclass.\n"
   ]
  },
  {
   "cell_type": "code",
   "execution_count": 1,
   "metadata": {},
   "outputs": [
    {
     "name": "stdout",
     "output_type": "stream",
     "text": [
      "a:10\n",
      "b:12\n",
      "c:14\n",
      "area of Traingle is: 58.787753826796276\n"
     ]
    }
   ],
   "source": [
    "class shape:\n",
    "    def __init__(self,a,b,c):\n",
    "        self.a = float(a)\n",
    "        self.b = float(b)\n",
    "        self.c = float(c)\n",
    "a= int(input(\"a:\"))\n",
    "b= int(input(\"b:\"))\n",
    "c= int(input(\"c:\"))\n",
    "\n",
    "class triangle(shape):\n",
    "    def __init__(self,a,b,c):\n",
    "        super().__init__(a,b,c)\n",
    "\n",
    "    def area(self):\n",
    "        s = (a + b + c) / 2\n",
    "        return (s*(s-a)*(s-b)*(s-c)) ** 0.5        \n",
    "\n",
    "tri = triangle(a,b,c)\n",
    "print(\"area of Traingle is: {}\".format(tri.area()))"
   ]
  },
  {
   "cell_type": "markdown",
   "metadata": {},
   "source": [
    "1.2 Write a function filter_long_words() that takes a list of words and an integer n and returns\n",
    "the list of words that are longer than n."
   ]
  },
  {
   "cell_type": "code",
   "execution_count": 2,
   "metadata": {},
   "outputs": [
    {
     "data": {
      "text/plain": [
       "['class', 'function', 'calculate', 'should', 'defined', 'subclass']"
      ]
     },
     "execution_count": 2,
     "metadata": {},
     "output_type": "execute_result"
    }
   ],
   "source": [
    "def filter_long_words(n,string):\n",
    "    listwords = []\n",
    "    text=string.split(\" \")\n",
    "    for x in text:\n",
    "        if len(x) > n:\n",
    "            listwords.append(x)\n",
    "    return listwords\n",
    "\n",
    "filter_long_words(4, \"class and function to calculate the area should be defined in subclass\")"
   ]
  },
  {
   "cell_type": "markdown",
   "metadata": {},
   "source": [
    "2.1 Write a Python program using function concept that maps list of words into a list of integers\n",
    "representing the lengths of the corresponding words.\n",
    "Hint: If a list [ ab,cde,erty] is passed on to the python function output should come as [2,3,4]\n",
    "Here 2,3 and 4 are the lengths of the words in the list."
   ]
  },
  {
   "cell_type": "code",
   "execution_count": 3,
   "metadata": {},
   "outputs": [
    {
     "name": "stdout",
     "output_type": "stream",
     "text": [
      "[1, 3, 4, 4, 5, 1, 1]\n"
     ]
    }
   ],
   "source": [
    "def w2i(wordlist):\n",
    "    output=[]\n",
    "    for i in wordlist:\n",
    "        output.append(len(i))\n",
    "    print(output)\n",
    "\n",
    "w_list=[\"a\",\"abc\",\"bcde\",\"defg\",\"pqrst\",\"n\",\"j\"]\n",
    "w2i(w_list)"
   ]
  },
  {
   "cell_type": "markdown",
   "metadata": {},
   "source": [
    "2.2 Write a Python function which takes a character (i.e. a string of length 1) and returns True if\n",
    "it is a vowel, False otherwise"
   ]
  },
  {
   "cell_type": "code",
   "execution_count": 4,
   "metadata": {},
   "outputs": [
    {
     "data": {
      "text/plain": [
       "False"
      ]
     },
     "execution_count": 4,
     "metadata": {},
     "output_type": "execute_result"
    }
   ],
   "source": [
    "def isvowel(s):\n",
    "    v=\"aeiouAEIOU\"\n",
    "    list=[]\n",
    "    for i in v:\n",
    "        list.append(i)\n",
    "    if s in list:\n",
    "        return True  \n",
    "    else:\n",
    "        return False\n",
    "isvowel(\"N\")"
   ]
  }
 ],
 "metadata": {
  "kernelspec": {
   "display_name": "Python 3",
   "language": "python",
   "name": "python3"
  },
  "language_info": {
   "codemirror_mode": {
    "name": "ipython",
    "version": 3
   },
   "file_extension": ".py",
   "mimetype": "text/x-python",
   "name": "python",
   "nbconvert_exporter": "python",
   "pygments_lexer": "ipython3",
   "version": "3.8.3"
  }
 },
 "nbformat": 4,
 "nbformat_minor": 4
}
